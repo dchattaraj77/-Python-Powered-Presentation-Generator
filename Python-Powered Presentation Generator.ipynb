{
 "cells": [
  {
   "cell_type": "code",
   "execution_count": null,
   "id": "68814b4c",
   "metadata": {},
   "outputs": [],
   "source": [
    "import openai\n",
    "from pptx import Presentation\n",
    "from pptx.util import Inches\n",
    "import os\n",
    "import time\n",
    "\n",
    "# Function to collect user inputs\n",
    "def get_user_inputs():\n",
    "    api_key = input(\"Enter your OpenAI API key: \")\n",
    "    subject = input(\"Enter the subject of the presentation: \")\n",
    "    audience = input(\"Specify the audience: \")\n",
    "    num_images = int(input(\"Enter the number of images: \"))\n",
    "    num_slides = int(input(\"Enter the number of slides: \"))\n",
    "    return api_key, subject, audience, num_images, num_slides"
   ]
  },
  {
   "cell_type": "code",
   "execution_count": null,
   "id": "bbba2265",
   "metadata": {},
   "outputs": [],
   "source": [
    "# Creating the prompt based on user inputs\n",
    "def create_prompt(subject, audience, num_images, num_slides):\n",
    "    prompt = f\"\"\"\n",
    "    You're skilled in presentation creation. You create highly effective and striking PowerPoint Presentations. Your task is to create a short presentation about {subject} aimed at a {audience} audience.\n",
    "    \n",
    "    You will do this step-by-step:\n",
    "    1. Retrieve the data by searching the web.\n",
    "    2. Write clear and concise text content for {num_slides} slides: a title page (engaging short title, 2-3 words, and sub-title, 4-5 words), introduction page (presentation of the context), description of the data page (presenting the data), trend observation page (trends that are observable from the data), conclusion page. Ensure thoughtful formatting with spacing, lists and short lines.\n",
    "    3. Generate {num_images} supporting images, each supporting the slides. Use landscape mode and a minimalist illustration style.\n",
    "    4. Let me review the images and text before proceeding.\n",
    "    5. Generate and execute code to convert the images to PNG format.\n",
    "    6. Create the PowerPoint presentation with {num_slides} slides that include the generated text and images.\n",
    "    \"\"\"\n",
    "    return prompt\n"
   ]
  },
  {
   "cell_type": "code",
   "execution_count": null,
   "id": "335403ad",
   "metadata": {},
   "outputs": [],
   "source": [
    "# Function to generate content using the OpenAI API with error handling\n",
    "def generate_presentation_content(prompt):\n",
    "    max_retries = 5\n",
    "    retries = 0\n",
    "    while retries < max_retries:\n",
    "        try:\n",
    "            response = openai.ChatCompletion.create(\n",
    "                model=\"gpt-4o\",\n",
    "                messages=[\n",
    "                    {\"role\": \"system\", \"content\": \"You are a helpful assistant.You will generate content to the point and ethically.\"},\n",
    "                    {\"role\": \"user\", \"content\": prompt}\n",
    "                ]\n",
    "            )\n",
    "            return response.choices[0].message['content'].strip()\n",
    "        except openai.error.RateLimitError:\n",
    "            retries += 1\n",
    "            print(f\"Rate limit exceeded. Retrying in {2 ** retries} seconds...\")\n",
    "            time.sleep(2 ** retries)\n",
    "    raise Exception(\"Rate limit exceeded. Please try again later.\")\n"
   ]
  },
  {
   "cell_type": "code",
   "execution_count": null,
   "id": "0db006e5",
   "metadata": {},
   "outputs": [],
   "source": [
    "# Function to create a PowerPoint presentation\n",
    "def create_presentation(content, num_slides):\n",
    "    prs = Presentation()\n",
    "    \n",
    "    # Split the content into slides\n",
    "    slides_content = content.split('\\n\\n')[:num_slides]\n",
    "    \n",
    "    # Add slides\n",
    "    for i, slide_content in enumerate(slides_content):\n",
    "        slide_layout = prs.slide_layouts[1]  # Title and Content layout\n",
    "        slide = prs.slides.add_slide(slide_layout)\n",
    "        title = slide.shapes.title\n",
    "        body = slide.placeholders[1]\n",
    "        \n",
    "        title.text = f\"Slide {i+1}\"\n",
    "        body.text = slide_content\n",
    "    \n",
    "    # Save the presentation\n",
    "    prs.save('presentation.pptx')\n",
    "    print(\"PowerPoint presentation created as 'presentation.pptx'.\")\n"
   ]
  },
  {
   "cell_type": "code",
   "execution_count": null,
   "id": "ba78702f",
   "metadata": {},
   "outputs": [],
   "source": [
    "# Main function to execute the steps\n",
    "def main():\n",
    "    api_key, subject, audience, num_images, num_slides = get_user_inputs()\n",
    "    openai.api_key = api_key\n",
    "    \n",
    "    prompt = create_prompt(subject, audience, num_images, num_slides)\n",
    "    \n",
    "    content = generate_presentation_content(prompt)\n",
    "    print(\"Generated Content:\\n\", content)\n",
    "    \n",
    "    # Assume user reviews and confirms the content and images here\n",
    "    input(\"Review the generated content above and press Enter to continue...\")\n",
    "    \n",
    "    create_presentation(content, num_slides)\n",
    "\n",
    "if __name__ == \"__main__\":\n",
    "    main()\n"
   ]
  },
  {
   "cell_type": "code",
   "execution_count": null,
   "id": "0be826cf",
   "metadata": {},
   "outputs": [],
   "source": []
  }
 ],
 "metadata": {
  "kernelspec": {
   "display_name": "Python 3 (ipykernel)",
   "language": "python",
   "name": "python3"
  },
  "language_info": {
   "codemirror_mode": {
    "name": "ipython",
    "version": 3
   },
   "file_extension": ".py",
   "mimetype": "text/x-python",
   "name": "python",
   "nbconvert_exporter": "python",
   "pygments_lexer": "ipython3",
   "version": "3.10.9"
  }
 },
 "nbformat": 4,
 "nbformat_minor": 5
}
